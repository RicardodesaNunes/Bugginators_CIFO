{
 "cells": [
  {
   "cell_type": "markdown",
   "id": "headed-valve",
   "metadata": {},
   "source": [
    "## Opening the files"
   ]
  },
  {
   "cell_type": "code",
   "execution_count": 1,
   "id": "external-empire",
   "metadata": {},
   "outputs": [],
   "source": [
    "import pandas as pd\n",
    "from os import listdir\n",
    "from os.path import isfile, join\n",
    "import ast"
   ]
  },
  {
   "cell_type": "code",
   "execution_count": 2,
   "id": "heavy-cocktail",
   "metadata": {},
   "outputs": [],
   "source": [
    "files = [f for f in listdir('attempts') if isfile(join('attempts', f))]\n",
    "\n",
    "for f in files:\n",
    "    exec(f.split('.')[0] + \"=\" + r\"pd.read_csv(join('attempts', f), header=None, index_col=0)\")"
   ]
  },
  {
   "cell_type": "code",
   "execution_count": 3,
   "id": "pharmaceutical-chrome",
   "metadata": {},
   "outputs": [
    {
     "data": {
      "text/plain": [
       "3"
      ]
     },
     "execution_count": 3,
     "metadata": {},
     "output_type": "execute_result"
    }
   ],
   "source": [
    "d = globals()\n",
    "\n",
    "attempts_names = [k for k, v in d.items() if isinstance(v, pd.DataFrame) and \"display\" not in k]\n",
    "display_names = [k for k, v in d.items() if isinstance(v, pd.DataFrame) and \"display\" in k]\n",
    "attempts = [v for k, v in d.items() if isinstance(v, pd.DataFrame) and \"display\" not in k]\n",
    "display = [v for k, v in d.items() if isinstance(v, pd.DataFrame) and \"display\" in k]\n",
    "\n",
    "len(attempts)"
   ]
  },
  {
   "cell_type": "markdown",
   "id": "sweet-marketing",
   "metadata": {},
   "source": [
    "## Display function"
   ]
  },
  {
   "cell_type": "code",
   "execution_count": 4,
   "id": "united-russell",
   "metadata": {},
   "outputs": [],
   "source": [
    "def show(rep):\n",
    "        print()\n",
    "        for i in range(81):\n",
    "            if i in [0, 27, 54]:\n",
    "                print('--------+-------+--------')\n",
    "            if i in [0, 9, 18, 27, 36, 45, 54, 63, 72]:\n",
    "                print ('|', end=' ')\n",
    "            print(rep[i], end=' ')\n",
    "            if (i+1) % 3 == 0:\n",
    "                print ('|', end=' ')\n",
    "            if i in [8, 17, 26, 35, 44, 53, 62, 71, 80]:\n",
    "                print ()\n",
    "            if i == 80:\n",
    "                print('--------+-------+--------')\n",
    "        print()"
   ]
  },
  {
   "cell_type": "markdown",
   "id": "unlikely-layer",
   "metadata": {},
   "source": [
    "## Easy\n",
    "Selecting the run with highest fitness."
   ]
  },
  {
   "cell_type": "code",
   "execution_count": 9,
   "id": "sonic-river",
   "metadata": {},
   "outputs": [
    {
     "name": "stdout",
     "output_type": "stream",
     "text": [
      "Max val: 237\n",
      "Id of max: 32\n"
     ]
    }
   ],
   "source": [
    "easy_max_run = attempts[attempts_names.index('easy')].iloc[149].idxmax()\n",
    "easy_max_val = attempts[attempts_names.index('easy')].iloc[149].max()\n",
    "print(f\"Max val: {easy_max_val}\\nId of max: {easy_max_run}\")"
   ]
  },
  {
   "cell_type": "code",
   "execution_count": 13,
   "id": "median-calculator",
   "metadata": {
    "scrolled": true
   },
   "outputs": [
    {
     "name": "stdout",
     "output_type": "stream",
     "text": [
      "\n",
      "--------+-------+--------\n",
      "| 2 6 9 | 7 4 3 | 4 1 5 | \n",
      "| 4 7 3 | 8 5 6 | 9 2 8 | \n",
      "| 5 8 1 | 9 2 4 | 7 6 3 | \n",
      "--------+-------+--------\n",
      "| 1 3 2 | 4 8 9 | 5 7 9 | \n",
      "| 7 4 6 | 6 5 2 | 8 3 1 | \n",
      "| 9 5 8 | 3 1 7 | 6 4 2 | \n",
      "--------+-------+--------\n",
      "| 6 9 4 | 2 3 8 | 1 5 7 | \n",
      "| 3 5 7 | 1 9 6 | 2 8 4 | \n",
      "| 8 1 2 | 5 7 4 | 3 9 6 | \n",
      "--------+-------+--------\n",
      "\n"
     ]
    }
   ],
   "source": [
    "easy_representation = ast.literal_eval(display[attempts_names.index('easy')].iloc[easy_max_run].name)\n",
    "\n",
    "show(easy_representation)"
   ]
  },
  {
   "cell_type": "markdown",
   "id": "satisfactory-chess",
   "metadata": {},
   "source": [
    "## Medium\n",
    "Selecting the run with highest fitness."
   ]
  },
  {
   "cell_type": "code",
   "execution_count": 37,
   "id": "grand-prague",
   "metadata": {},
   "outputs": [
    {
     "name": "stdout",
     "output_type": "stream",
     "text": [
      "Max val: 233\n",
      "Id of max: 21\n"
     ]
    }
   ],
   "source": [
    "medium_max_run = attempts[attempts_names.index('medium')].iloc[149].idxmax()\n",
    "medium_max_val = attempts[attempts_names.index('medium')].iloc[149].max()\n",
    "print(f\"Max val: {medium_max_val}\\nId of max: {medium_max_run}\")"
   ]
  },
  {
   "cell_type": "code",
   "execution_count": 38,
   "id": "moral-hierarchy",
   "metadata": {},
   "outputs": [
    {
     "name": "stdout",
     "output_type": "stream",
     "text": [
      "\n",
      "--------+-------+--------\n",
      "| 8 5 3 | 5 6 4 | 2 1 3 | \n",
      "| 1 2 9 | 7 8 3 | 6 4 9 | \n",
      "| 6 4 2 | 3 1 9 | 5 7 8 | \n",
      "--------+-------+--------\n",
      "| 4 9 7 | 1 3 6 | 9 8 5 | \n",
      "| 5 6 8 | 4 2 7 | 3 2 1 | \n",
      "| 1 3 2 | 2 5 9 | 4 6 7 | \n",
      "--------+-------+--------\n",
      "| 9 8 1 | 3 4 2 | 7 5 6 | \n",
      "| 3 4 6 | 9 7 5 | 1 8 2 | \n",
      "| 2 7 5 | 6 9 1 | 8 3 4 | \n",
      "--------+-------+--------\n",
      "\n"
     ]
    }
   ],
   "source": [
    "medium_representation = ast.literal_eval(display[attempts_names.index('medium')].iloc[medium_max_run].name)\n",
    "\n",
    "show(medium_representation)"
   ]
  },
  {
   "cell_type": "markdown",
   "id": "diverse-lloyd",
   "metadata": {},
   "source": [
    "## Hard\n",
    "Selecting the run with highest fitness."
   ]
  },
  {
   "cell_type": "code",
   "execution_count": 39,
   "id": "marine-slovenia",
   "metadata": {},
   "outputs": [
    {
     "name": "stdout",
     "output_type": "stream",
     "text": [
      "Max val: 228\n",
      "Id of max: 9\n"
     ]
    }
   ],
   "source": [
    "hard_max_run = attempts[attempts_names.index('hard')].iloc[149].idxmax()\n",
    "hard_max_val = attempts[attempts_names.index('hard')].iloc[149].max()\n",
    "print(f\"Max val: {hard_max_val}\\nId of max: {hard_max_run}\")"
   ]
  },
  {
   "cell_type": "code",
   "execution_count": 41,
   "id": "illegal-atlantic",
   "metadata": {},
   "outputs": [
    {
     "name": "stdout",
     "output_type": "stream",
     "text": [
      "\n",
      "--------+-------+--------\n",
      "| 6 3 9 | 4 8 5 | 1 7 2 | \n",
      "| 9 2 1 | 3 7 4 | 6 5 8 | \n",
      "| 7 5 8 | 6 4 2 | 9 6 3 | \n",
      "--------+-------+--------\n",
      "| 4 7 3 | 2 5 6 | 9 1 5 | \n",
      "| 3 8 6 | 7 4 8 | 2 9 3 | \n",
      "| 5 1 2 | 9 3 1 | 7 8 4 | \n",
      "--------+-------+--------\n",
      "| 8 3 2 | 1 9 9 | 5 7 6 | \n",
      "| 1 6 5 | 8 2 7 | 8 4 9 | \n",
      "| 9 4 7 | 5 6 3 | 3 2 1 | \n",
      "--------+-------+--------\n",
      "\n"
     ]
    }
   ],
   "source": [
    "hard_representation = ast.literal_eval(display[attempts_names.index('hard')].iloc[hard_max_run].name)\n",
    "\n",
    "show(hard_representation)"
   ]
  }
 ],
 "metadata": {
  "kernelspec": {
   "display_name": "Python 3",
   "language": "python",
   "name": "python3"
  },
  "language_info": {
   "codemirror_mode": {
    "name": "ipython",
    "version": 3
   },
   "file_extension": ".py",
   "mimetype": "text/x-python",
   "name": "python",
   "nbconvert_exporter": "python",
   "pygments_lexer": "ipython3",
   "version": "3.8.5"
  }
 },
 "nbformat": 4,
 "nbformat_minor": 5
}
